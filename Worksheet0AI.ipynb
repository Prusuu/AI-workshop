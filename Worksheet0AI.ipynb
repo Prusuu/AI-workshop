{
 "cells": [
  {
   "cell_type": "markdown",
   "id": "99b54f45-ee68-4d93-b029-5401aaf6450f",
   "metadata": {},
   "source": [
    "# Python Version"
   ]
  },
  {
   "cell_type": "code",
   "execution_count": 4,
   "id": "60b4dfc7-60a3-4f38-82a1-e813920a2fc2",
   "metadata": {},
   "outputs": [
    {
     "name": "stdout",
     "output_type": "stream",
     "text": [
      "Hello World!\n",
      "Python version; 3.11.10 | packaged by Anaconda, Inc. | (main, Oct  3 2024, 07:22:26) [MSC v.1929 64 bit (AMD64)]\n"
     ]
    }
   ],
   "source": [
    "import sys\n",
    "\n",
    "if sys.version_info.major ==3 and sys.version_info.minor >= 6:\n",
    "    print(\"Hello World!\")\n",
    "    print(f\"Python version; {sys.version}\")\n",
    "else:\n",
    "    print(\"Please use Python 3.6 or highger.\")"
   ]
  },
  {
   "cell_type": "markdown",
   "id": "c435ca1f-2374-4ae7-bf27-9d61d5ed6b5c",
   "metadata": {},
   "source": [
    "# Numeric Data Types"
   ]
  },
  {
   "cell_type": "code",
   "execution_count": 5,
   "id": "718c97f8-4173-4e91-844d-f4967b78327e",
   "metadata": {},
   "outputs": [
    {
     "name": "stdout",
     "output_type": "stream",
     "text": [
      "data type of variable age =  <class 'int'>\n",
      "data type of variable pi =  <class 'float'>\n",
      "data type of variable temperature =  <class 'float'>\n"
     ]
    }
   ],
   "source": [
    "age = 23 #int\n",
    "pi = 3.14 #float\n",
    "temperature = -5.5 #float\n",
    "print(\"data type of variable age = \", type(age))\n",
    "print(\"data type of variable pi = \", type(pi))\n",
    "print(\"data type of variable temperature = \", type(temperature))"
   ]
  },
  {
   "cell_type": "markdown",
   "id": "262536bb-91b4-46d4-a952-765aa1cc3f6d",
   "metadata": {},
   "source": [
    "# Sequence: str"
   ]
  },
  {
   "cell_type": "code",
   "execution_count": 8,
   "id": "2b85fe16-afa3-405c-ad22-86c08206bc2b",
   "metadata": {},
   "outputs": [
    {
     "name": "stdout",
     "output_type": "stream",
     "text": [
      "data type of the variable name =  <class 'str'>\n",
      "data type of the variable greeting =  <class 'str'>\n",
      "data type of the variable address =  <class 'str'>\n",
      "The first letter of the name is: A\n",
      "The last letter of the name is: e\n",
      "The second letter to the fourth of the name is: lic\n",
      "The first two letters of the name are: Al\n",
      "Substring starting from the third letter is: ice\n"
     ]
    }
   ],
   "source": [
    "name = \"Alice\"\n",
    "greeting = 'Hello'\n",
    "address = \"123 Main St\"\n",
    "print(\"data type of the variable name = \",type(name))\n",
    "print(\"data type of the variable greeting = \",type(greeting))\n",
    "print(\"data type of the variable address = \",type(address))\n",
    "# slice only one element\n",
    "print(\"The first letter of the name is:\", name[0])\n",
    "print(\"The last letter of the name is:\", name[-1])\n",
    "# slice a range of elements\n",
    "print(\"The second letter to the fourth of the name is:\", name[1:4])\n",
    "print(\"The first two letters of the name are:\", name[:2])\n",
    "print(\"Substring starting from the third letter is:\", name[2:])"
   ]
  },
  {
   "cell_type": "markdown",
   "id": "fab9878a-c70f-4e66-90ae-39c0eef74e00",
   "metadata": {},
   "source": [
    "# Sequence: list"
   ]
  },
  {
   "cell_type": "code",
   "execution_count": 9,
   "id": "c3402be3-2e9b-4c93-aa8e-464d1f04b055",
   "metadata": {},
   "outputs": [
    {
     "data": {
      "text/plain": [
       "[False, 'Hello', True]"
      ]
     },
     "execution_count": 9,
     "metadata": {},
     "output_type": "execute_result"
    }
   ],
   "source": [
    "list1 = [1, 2, 3, 4]\n",
    "mixed_list = [12, \"Hello\", True]\n",
    "# List is mutable\n",
    "mixed_list[0] = False\n",
    "mixed_list"
   ]
  },
  {
   "cell_type": "markdown",
   "id": "c7c6cbc4-d0d1-4f9a-8bcd-4a509a8db098",
   "metadata": {},
   "source": [
    "# Sequence: tuple"
   ]
  },
  {
   "cell_type": "code",
   "execution_count": 13,
   "id": "ea205eba-606b-43ff-929c-b7f1b9d7a212",
   "metadata": {},
   "outputs": [
    {
     "name": "stdout",
     "output_type": "stream",
     "text": [
      "First element: red\n",
      "Last two elements: ('yellow', 'blue')\n",
      "Middle two elements: ('green', 'yellow')\n"
     ]
    },
    {
     "ename": "TypeError",
     "evalue": "'tuple' object does not support item assignment",
     "output_type": "error",
     "traceback": [
      "\u001b[1;31m---------------------------------------------------------------------------\u001b[0m",
      "\u001b[1;31mTypeError\u001b[0m                                 Traceback (most recent call last)",
      "Cell \u001b[1;32mIn[13], line 5\u001b[0m\n\u001b[0;32m      3\u001b[0m \u001b[38;5;28mprint\u001b[39m(\u001b[38;5;124m\"\u001b[39m\u001b[38;5;124mLast two elements:\u001b[39m\u001b[38;5;124m\"\u001b[39m, colors[\u001b[38;5;241m2\u001b[39m:])\n\u001b[0;32m      4\u001b[0m \u001b[38;5;28mprint\u001b[39m(\u001b[38;5;124m\"\u001b[39m\u001b[38;5;124mMiddle two elements:\u001b[39m\u001b[38;5;124m\"\u001b[39m, colors[\u001b[38;5;241m1\u001b[39m:\u001b[38;5;241m3\u001b[39m])\n\u001b[1;32m----> 5\u001b[0m colors[\u001b[38;5;241m0\u001b[39m] \u001b[38;5;241m=\u001b[39m \u001b[38;5;124m'\u001b[39m\u001b[38;5;124mpurple\u001b[39m\u001b[38;5;124m'\u001b[39m\n\u001b[0;32m      6\u001b[0m colors\n",
      "\u001b[1;31mTypeError\u001b[0m: 'tuple' object does not support item assignment"
     ]
    }
   ],
   "source": [
    "colors = ('red', 'green', 'yellow', 'blue')\n",
    "print(\"First element:\", colors[0])\n",
    "print(\"Last two elements:\", colors[2:])\n",
    "print(\"Middle two elements:\", colors[1:3])\n",
    "colors[0] = 'purple'\n",
    "colors # will generate an error as tuple is immutable."
   ]
  },
  {
   "cell_type": "markdown",
   "id": "3b72eff6-eb9a-4f76-b3f2-0161c34ee41d",
   "metadata": {},
   "source": [
    "# Mapping"
   ]
  },
  {
   "cell_type": "markdown",
   "id": "e10e0cd6-4488-4ecc-b71c-b0a21ae59ce1",
   "metadata": {},
   "source": [
    "## Dictionary"
   ]
  },
  {
   "cell_type": "code",
   "execution_count": 21,
   "id": "7af6ea88-15d4-4dc3-8953-824d887d0718",
   "metadata": {},
   "outputs": [
    {
     "name": "stdout",
     "output_type": "stream",
     "text": [
      "Hello my name is John. I am 30 years old and I live at Pittsburgh.\n",
      "All keys: ['name', 'age', 'city']\n",
      "All values: ['John', 30, 'Pittsburgh']\n"
     ]
    }
   ],
   "source": [
    "person = {'name':'John','age':30,'city':'Pittsburgh'}\n",
    "print(f\"Hello my name is {person['name']}. I am {person['age']} years old and I live at {person['city']}.\")\n",
    "print(\"All keys:\", list(person.keys()))\n",
    "print(\"All values:\", list(person.values()))"
   ]
  },
  {
   "cell_type": "markdown",
   "id": "f7652fe7-4e86-4923-895d-bdc869e3eeb6",
   "metadata": {},
   "source": [
    "## Set"
   ]
  },
  {
   "cell_type": "code",
   "execution_count": 23,
   "id": "7041e57f-037b-427b-a0e9-2b40ece17121",
   "metadata": {},
   "outputs": [
    {
     "name": "stdout",
     "output_type": "stream",
     "text": [
      "{1, 2, 3, 4, 5}\n"
     ]
    }
   ],
   "source": [
    "unique_numbers = {1,2,3,3,3,3,4,5}\n",
    "print(unique_numbers)"
   ]
  },
  {
   "cell_type": "markdown",
   "id": "dae17f7b-d5e4-4739-b6d5-1b2c7dc9016c",
   "metadata": {},
   "source": [
    "# Boolean"
   ]
  },
  {
   "cell_type": "code",
   "execution_count": 24,
   "id": "ea0a8689-0aec-4bf8-9245-6bd7953321aa",
   "metadata": {},
   "outputs": [
    {
     "name": "stdout",
     "output_type": "stream",
     "text": [
      "data type of the variable is_student =  <class 'bool'>\n",
      "data type of the variable has_license =  <class 'bool'>\n"
     ]
    }
   ],
   "source": [
    "is_student = True\n",
    "has_license = False\n",
    "print(\"data type of the variable is_student = \",type(is_student))\n",
    "print(\"data type of the variable has_license = \",type(has_license))"
   ]
  },
  {
   "cell_type": "markdown",
   "id": "31dedf20-dcfe-4b8e-8340-9983c857bfd1",
   "metadata": {},
   "source": [
    "# Logical Statements"
   ]
  },
  {
   "cell_type": "code",
   "execution_count": 26,
   "id": "16047e37-3eed-449e-bb40-721b652170a5",
   "metadata": {},
   "outputs": [
    {
     "name": "stdout",
     "output_type": "stream",
     "text": [
      "Positive\n"
     ]
    }
   ],
   "source": [
    "num = 10\n",
    "if num > 0:\n",
    "    print(\"Positive\")\n",
    "elif num == 0:\n",
    "    print(\"Zero\")\n",
    "else:\n",
    "    print(\"Non-positive\")"
   ]
  },
  {
   "cell_type": "markdown",
   "id": "64c1da88-0477-47ea-9bbd-505f598c0994",
   "metadata": {},
   "source": [
    "## Comparison operators"
   ]
  },
  {
   "cell_type": "code",
   "execution_count": 27,
   "id": "322173f8-4cc0-40e0-8071-b563d82bb8bb",
   "metadata": {},
   "outputs": [
    {
     "name": "stdout",
     "output_type": "stream",
     "text": [
      "Both conditions are true\n",
      "At least one condition is true\n",
      "x is not equal to 0\n"
     ]
    }
   ],
   "source": [
    "x = 5\n",
    "y = 10\n",
    "if x > 0 and y < 20:\n",
    "    print(\"Both conditions are true\")\n",
    "if x > 0 or y > 20:\n",
    "    print(\"At least one condition is true\")\n",
    "if not x == 0:\n",
    "    print(\"x is not equal to 0\")"
   ]
  },
  {
   "cell_type": "markdown",
   "id": "8fcdf357-9a29-4b77-8223-90cc1f413c86",
   "metadata": {},
   "source": [
    "## Logical operators"
   ]
  },
  {
   "cell_type": "code",
   "execution_count": 28,
   "id": "0c91df74-6dc3-4105-bc90-e40dc57144de",
   "metadata": {},
   "outputs": [
    {
     "name": "stdout",
     "output_type": "stream",
     "text": [
      "Either a or b is False\n",
      "At least one of a or b is True\n",
      "a is True\n"
     ]
    }
   ],
   "source": [
    "# Define two boolean variables\n",
    "a = True\n",
    "b = False\n",
    "# Using the ’and’ operator\n",
    "if a and b:\n",
    "    print(\"Both a and b are True\")\n",
    "else:\n",
    "    print(\"Either a or b is False\") # This will be printed\n",
    "# Using the ’or’ operator\n",
    "if a or b:\n",
    "    print(\"At least one of a or b is True\") # This will be printed\n",
    "else:\n",
    "    print(\"Both a and b are False\")\n",
    "# Using the ’not’ operator\n",
    "if not a:\n",
    "    print(\"a is False\") # This will not be printed\n",
    "else:\n",
    "    print(\"a is True\") # This will be printed"
   ]
  },
  {
   "cell_type": "markdown",
   "id": "a160e60b-a307-4ecb-8cd0-fbd3ac571d96",
   "metadata": {},
   "source": [
    "# Loops"
   ]
  },
  {
   "cell_type": "code",
   "execution_count": 30,
   "id": "521040b4-95bd-4069-9b39-72c9df49b866",
   "metadata": {},
   "outputs": [
    {
     "name": "stdout",
     "output_type": "stream",
     "text": [
      "apple\n",
      "banana\n",
      "cherry\n",
      "Count is: 0\n",
      "Count is: 1\n",
      "Count is: 2\n",
      "Count is: 3\n",
      "Count is: 4\n",
      "loop 1\n",
      "apple\n",
      "loop 2\n",
      "banana\n",
      "orange\n"
     ]
    }
   ],
   "source": [
    "# for loop:\n",
    "fruits = [\"apple\", \"banana\",\"cherry\"]\n",
    "for fruit in fruits:\n",
    "    print(fruit)\n",
    "# While loop:\n",
    "count = 0\n",
    "while count < 5:\n",
    "    print(\"Count is:\", count)\n",
    "    count += 1\n",
    "# Break\n",
    "fruits = [\"apple\", \"banana\", \"orange\"]\n",
    "print(\"loop 1\")\n",
    "for fruit in fruits:\n",
    "    print(fruit)\n",
    "    if fruit == \"apple\":\n",
    "        break\n",
    "# Continiue\n",
    "print(\"loop 2\")\n",
    "for fruit in fruits:\n",
    "    if fruit == \"apple\":\n",
    "        continue\n",
    "    else:\n",
    "        print(fruit)"
   ]
  },
  {
   "cell_type": "markdown",
   "id": "0262e31b-3c68-458e-984e-5b1c6ba1a755",
   "metadata": {},
   "source": [
    "# Functions"
   ]
  },
  {
   "cell_type": "code",
   "execution_count": 37,
   "id": "4576bad3-3a94-4e9a-b80f-9099eccf0752",
   "metadata": {},
   "outputs": [
    {
     "data": {
      "text/plain": [
       "'100'"
      ]
     },
     "execution_count": 37,
     "metadata": {},
     "output_type": "execute_result"
    }
   ],
   "source": [
    "def add_binary(a, b):\n",
    "    '''\n",
    "    Returns the sum of two decimal numbers in binary digits.\n",
    "    Parameters:\n",
    "    a (int): A decimal integer\n",
    "    b (int): Another decimal integer\n",
    "    Returns:\n",
    "    binary_sum (str): Binary string of the sum of a and b\n",
    "    '''\n",
    "    binary_sum = bin(a+b)[2:]\n",
    "    return binary_sum\n",
    "\n",
    "add_binary(2, 2)"
   ]
  },
  {
   "cell_type": "markdown",
   "id": "cf1ea0ec-f15c-4883-830a-4b2b6a81dbd5",
   "metadata": {},
   "source": [
    "## Built-in Functions"
   ]
  },
  {
   "cell_type": "code",
   "execution_count": 39,
   "id": "2e42f86a-e00c-4ad1-8b81-fe4cb0b765ef",
   "metadata": {},
   "outputs": [
    {
     "name": "stdout",
     "output_type": "stream",
     "text": [
      "Hello, World!\n",
      "length: 5\n",
      "data type: <class 'int'>\n",
      "total: 6\n"
     ]
    }
   ],
   "source": [
    "print(\"Hello, World!\") \n",
    "length = len(\"Hello\") \n",
    "print(\"length:\", length)\n",
    "data_type = type(42)\n",
    "print(\"data type:\", data_type)\n",
    "total = sum([1, 2, 3])\n",
    "print('total:', total)"
   ]
  },
  {
   "cell_type": "markdown",
   "id": "a0547083-01e5-40cb-a9cc-8523db439c3c",
   "metadata": {},
   "source": [
    "## Built-in Methods"
   ]
  },
  {
   "cell_type": "code",
   "execution_count": 41,
   "id": "e4bb0855-786b-447c-b5c2-fae7e086ff2a",
   "metadata": {},
   "outputs": [
    {
     "name": "stdout",
     "output_type": "stream",
     "text": [
      "HELLO\n",
      "['apple', 'banana', 'cherry']\n",
      "25\n"
     ]
    }
   ],
   "source": [
    "message = \"hello\".upper()\n",
    "print(message)\n",
    "\n",
    "fruits = ['apple', 'banana']\n",
    "fruits.append('cherry')\n",
    "print(fruits)\n",
    "\n",
    "info = {\"name\":\"Alice\", \"age\":25}\n",
    "age = info.get('age')\n",
    "print(age)"
   ]
  },
  {
   "cell_type": "markdown",
   "id": "32f66b82-dcd3-4a8c-b0cf-ee973a7b592e",
   "metadata": {},
   "source": [
    "## User Defined Functions"
   ]
  },
  {
   "cell_type": "code",
   "execution_count": 43,
   "id": "c2367986-7ce0-464c-ad92-4ab05f13cbad",
   "metadata": {
    "scrolled": true
   },
   "outputs": [
    {
     "name": "stdout",
     "output_type": "stream",
     "text": [
      "Choose conversion type:\n",
      "1. Celsius to Fahrenheit\n",
      "2. Fahrenheit to Celsius\n"
     ]
    },
    {
     "name": "stdin",
     "output_type": "stream",
     "text": [
      "Enter 1 or 2: 1\n",
      "Enter temperature in Celsius:  7\n"
     ]
    },
    {
     "name": "stdout",
     "output_type": "stream",
     "text": [
      "7.0C is equal to 44.6F\n"
     ]
    },
    {
     "data": {
      "text/plain": [
       "44.6"
      ]
     },
     "execution_count": 43,
     "metadata": {},
     "output_type": "execute_result"
    }
   ],
   "source": [
    "def temperature_converter():\n",
    "    print(\"Choose conversion type:\")\n",
    "    print(\"1. Celsius to Fahrenheit\")\n",
    "    print(\"2. Fahrenheit to Celsius\")\n",
    "    choice = input(\"Enter 1 or 2:\")\n",
    "    if choice == \"1\":\n",
    "        # Celsius to Fahrenheit conversion\n",
    "        celsius = float(input(\"Enter temperature in Celsius: \"))\n",
    "        fahrenheit = (celsius * 9/5) + 32\n",
    "        print(f\"{celsius}C is equal to {fahrenheit}F\")\n",
    "        return fahrenheit\n",
    "    elif choice == \"2\":\n",
    "        # Fahrenheit to Celsius conversion\n",
    "        fahrenheit = float(input(\"Enter temperature in Fahrenheit: \"))\n",
    "        celsius = (fahrenheit - 32) * 5/9\n",
    "        print(f\"{fahrenheit}F is equal to {celsius}C\")\n",
    "        return celsius\n",
    "    else:\n",
    "        print(\"Invalid choice.Please enter 1 or 2.\")\n",
    "        return None\n",
    "\n",
    "temperature_converter()"
   ]
  },
  {
   "cell_type": "markdown",
   "id": "f72e41e9-afe3-4d0b-a459-d5bc5a4719a6",
   "metadata": {},
   "source": [
    "## Task 1"
   ]
  },
  {
   "cell_type": "code",
   "execution_count": 1,
   "id": "64e09315-bf44-460b-bc7f-71fa0d02a5d7",
   "metadata": {},
   "outputs": [
    {
     "name": "stdout",
     "output_type": "stream",
     "text": [
      "Cold temperature: [8.2, 7.9, 9.0, 8.5, 7.7, 8.4, 9.5, 8.1, 7.6, 8.0, 7.8, 8.7, 9.2, 8.3, 8.9, 7.8]\n",
      "Mild temperature: [14.1, 13.5, 13.0, 12.9, 13.3, 14.0, 13.4, 14.2, 12.8, 13.7, 13.6, 13.8, 13.9, 12.7, 13.1, 12.5]\n",
      "Comfortable temperature: [17.4, 18.0, 17.8, 16.5, 17.2, 16.7, 18.3, 17.9, 17.0, 16.8, 17.5, 17.1, 18.1, 16.4, 18.2, 16.6]\n"
     ]
    }
   ],
   "source": [
    "temperature = [8.2, 17.4, 14.1, 7.9, 18.0, 13.5, 9.0, 17.8, 13.0, 8.5,\n",
    "16.5, 12.9, 7.7, 17.2, 13.3, 8.4, 16.7, 14.0, 9.5, 18.3, 13.4, 8.1,\n",
    "17.9, 14.2, 7.6, 17.0, 12.8, 8.0, 16.8, 13.7, 7.8, 17.5, 13.6, 8.7,\n",
    "17.1, 13.8, 9.2, 18.1, 13.9, 8.3, 16.4, 12.7, 8.9, 18.2, 13.1, 7.8,\n",
    "16.6, 12.5]\n",
    "\n",
    "cold_temp = []\n",
    "mild_temp = []\n",
    "comfortable_temp = []\n",
    "\n",
    "for temp in temperature:\n",
    "    if temp < 10:\n",
    "        cold_temp.append(temp)\n",
    "    elif temp >= 10 and temp < 15:\n",
    "        mild_temp.append(temp)\n",
    "    else:\n",
    "        comfortable_temp.append(temp)\n",
    "\n",
    "print(\"Cold temperature:\", cold_temp)\n",
    "print(\"Mild temperature:\", mild_temp)\n",
    "print(\"Comfortable temperature:\", comfortable_temp)"
   ]
  },
  {
   "cell_type": "markdown",
   "id": "15c933b2-0652-427a-a762-daa462bbfc53",
   "metadata": {},
   "source": [
    "## Task 2"
   ]
  },
  {
   "cell_type": "code",
   "execution_count": 8,
   "id": "344f31db-a0b3-4ece-8170-ea83541dd284",
   "metadata": {},
   "outputs": [
    {
     "name": "stdout",
     "output_type": "stream",
     "text": [
      "Number of times the temperature was mild:  16\n",
      "Number of times the temperature was comfortable:  16\n",
      "Number of times the temperature was cold:  16\n"
     ]
    }
   ],
   "source": [
    "m_count = 0\n",
    "for m_temp in mild_temp:\n",
    "    m_count = m_count + 1\n",
    "\n",
    "print(\"Number of times the temperature was mild: \", m_count)\n",
    "\n",
    "cm_count = 0\n",
    "for cm_temp in comfortable_temp:\n",
    "    cm_count = cm_count + 1\n",
    "\n",
    "print(\"Number of times the temperature was comfortable: \", cm_count)\n",
    "\n",
    "c_count = 0\n",
    "for c_temp in cold_temp:\n",
    "    c_count = c_count + 1\n",
    "\n",
    "print(\"Number of times the temperature was cold: \", m_count)"
   ]
  },
  {
   "cell_type": "markdown",
   "id": "ef713692-0611-468b-b584-07fa8d53b03d",
   "metadata": {},
   "source": [
    "## Task 3"
   ]
  },
  {
   "cell_type": "code",
   "execution_count": 13,
   "id": "bc1a030a-034a-4112-9a95-ce23637464b1",
   "metadata": {},
   "outputs": [
    {
     "name": "stdout",
     "output_type": "stream",
     "text": [
      "Temperature in Fahrenheit is:  [46.76, 63.32, 57.38, 46.22, 64.4, 56.3, 48.2, 64.04, 55.4, 47.3, 61.7, 55.22, 45.86, 62.96, 55.94, 47.12, 62.06, 57.2, 49.1, 64.94, 56.12, 46.58, 64.22, 57.56, 45.68, 62.6, 55.04, 46.4, 62.24, 56.66, 46.04, 63.5, 56.48, 47.66, 62.78, 56.84, 48.56, 64.58, 57.02, 46.94, 61.52, 54.86, 48.02, 64.76, 55.58, 46.04, 61.88, 54.5]\n"
     ]
    }
   ],
   "source": [
    "def temperature_convert(celsius):\n",
    "    fahrenheit = (celsius * 9/5) + 32\n",
    "    new_temp.append(round(fahrenheit,3))\n",
    "\n",
    "new_temp = []\n",
    "\n",
    "for temp in temperature:\n",
    "    temperature_convert(temp)\n",
    "\n",
    "print (\"Temperature in Fahrenheit is: \", new_temp)\n",
    "    "
   ]
  },
  {
   "cell_type": "markdown",
   "id": "558e79fa-ac38-44a3-9068-f72871875e9f",
   "metadata": {},
   "source": [
    "# Task 4"
   ]
  },
  {
   "cell_type": "code",
   "execution_count": null,
   "id": "251ba7f2-231b-4fbd-aecc-a5d499dbcf18",
   "metadata": {},
   "outputs": [],
   "source": [
    "import matplotlib.pyplot as plt\n",
    "\n",
    "night_temp = []\n",
    "day_temp = []\n",
    "evening_temp - []\n",
    "\n",
    "for temp in "
   ]
  }
 ],
 "metadata": {
  "kernelspec": {
   "display_name": "Python 3 (ipykernel)",
   "language": "python",
   "name": "python3"
  },
  "language_info": {
   "codemirror_mode": {
    "name": "ipython",
    "version": 3
   },
   "file_extension": ".py",
   "mimetype": "text/x-python",
   "name": "python",
   "nbconvert_exporter": "python",
   "pygments_lexer": "ipython3",
   "version": "3.11.10"
  }
 },
 "nbformat": 4,
 "nbformat_minor": 5
}
